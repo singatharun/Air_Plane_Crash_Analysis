{
 "cells": [
  {
   "cell_type": "code",
   "execution_count": 1,
   "metadata": {},
   "outputs": [],
   "source": [
    "import pandas as pd\n",
    "import numpy as np\n",
    "import seaborn as sns\n",
    "import matplotlib.pyplot as plt\n",
    "import warnings\n",
    "warnings.filterwarnings('ignore')\n",
    "#import essential libraries."
   ]
  },
  {
   "cell_type": "code",
   "execution_count": 2,
   "metadata": {},
   "outputs": [],
   "source": [
    "plane=pd.read_csv(r\"C:\\Users\\singa tharun reddy\\Desktop\\Github projects\\Airplane crash analysis\\crash.csv\")"
   ]
  },
  {
   "cell_type": "code",
   "execution_count": 3,
   "metadata": {},
   "outputs": [],
   "source": [
    "# Description of columns given by the dataset author.\n",
    "\n",
    "#Date: Date of accident, in the format - January 01, 2001\n",
    "#Time: Local time, in 24 hr. format unless otherwise specified\n",
    "#Airline/Op: Airline or operator of the aircraft\n",
    "#Flight #: Flight number assigned by the aircraft operator\n",
    "#Route: Complete or partial route flown prior to the accident\n",
    "#AC Type: Aircraft type\n",
    "#Reg: ICAO registration of the aircraft\n",
    "#cn / ln: Construction or serial number / Line or fuselage number\n",
    "#Aboard: Total aboard (passengers / crew)\n",
    "#Fatalities: Total fatalities aboard (passengers / crew)\n",
    "#Ground: Total killed on the ground\n",
    "#Summary: Brief description of the accident and cause if known"
   ]
  },
  {
   "cell_type": "code",
   "execution_count": 4,
   "metadata": {},
   "outputs": [
    {
     "data": {
      "text/html": [
       "<div>\n",
       "<style scoped>\n",
       "    .dataframe tbody tr th:only-of-type {\n",
       "        vertical-align: middle;\n",
       "    }\n",
       "\n",
       "    .dataframe tbody tr th {\n",
       "        vertical-align: top;\n",
       "    }\n",
       "\n",
       "    .dataframe thead th {\n",
       "        text-align: right;\n",
       "    }\n",
       "</style>\n",
       "<table border=\"1\" class=\"dataframe\">\n",
       "  <thead>\n",
       "    <tr style=\"text-align: right;\">\n",
       "      <th></th>\n",
       "      <th>Date</th>\n",
       "      <th>Time</th>\n",
       "      <th>Location</th>\n",
       "      <th>Operator</th>\n",
       "      <th>Flight #</th>\n",
       "      <th>Route</th>\n",
       "      <th>AC Type</th>\n",
       "      <th>Registration</th>\n",
       "      <th>cn/ln</th>\n",
       "      <th>Aboard</th>\n",
       "      <th>Aboard Passangers</th>\n",
       "      <th>Aboard Crew</th>\n",
       "      <th>Fatalities</th>\n",
       "      <th>Fatalities Passangers</th>\n",
       "      <th>Fatalities Crew</th>\n",
       "      <th>Ground</th>\n",
       "      <th>Summary</th>\n",
       "    </tr>\n",
       "  </thead>\n",
       "  <tbody>\n",
       "    <tr>\n",
       "      <th>0</th>\n",
       "      <td>09/17/1908</td>\n",
       "      <td>17:18</td>\n",
       "      <td>Fort Myer, Virginia</td>\n",
       "      <td>Military - U.S. Army</td>\n",
       "      <td>NaN</td>\n",
       "      <td>Demonstration</td>\n",
       "      <td>Wright Flyer III</td>\n",
       "      <td>NaN</td>\n",
       "      <td>1</td>\n",
       "      <td>2.0</td>\n",
       "      <td>1.0</td>\n",
       "      <td>1.0</td>\n",
       "      <td>1.0</td>\n",
       "      <td>1.0</td>\n",
       "      <td>0.0</td>\n",
       "      <td>0.0</td>\n",
       "      <td>During a demonstration flight, a U.S. Army fly...</td>\n",
       "    </tr>\n",
       "    <tr>\n",
       "      <th>1</th>\n",
       "      <td>09/07/1909</td>\n",
       "      <td>NaN</td>\n",
       "      <td>Juvisy-sur-Orge, France</td>\n",
       "      <td>NaN</td>\n",
       "      <td>NaN</td>\n",
       "      <td>Air show</td>\n",
       "      <td>Wright Byplane</td>\n",
       "      <td>SC1</td>\n",
       "      <td>NaN</td>\n",
       "      <td>1.0</td>\n",
       "      <td>0.0</td>\n",
       "      <td>1.0</td>\n",
       "      <td>1.0</td>\n",
       "      <td>0.0</td>\n",
       "      <td>0.0</td>\n",
       "      <td>0.0</td>\n",
       "      <td>Eugene Lefebvre was the first pilot to ever be...</td>\n",
       "    </tr>\n",
       "    <tr>\n",
       "      <th>2</th>\n",
       "      <td>07/12/1912</td>\n",
       "      <td>06:30</td>\n",
       "      <td>Atlantic City, New Jersey</td>\n",
       "      <td>Military - U.S. Navy</td>\n",
       "      <td>NaN</td>\n",
       "      <td>Test flight</td>\n",
       "      <td>Dirigible</td>\n",
       "      <td>NaN</td>\n",
       "      <td>NaN</td>\n",
       "      <td>5.0</td>\n",
       "      <td>0.0</td>\n",
       "      <td>5.0</td>\n",
       "      <td>5.0</td>\n",
       "      <td>0.0</td>\n",
       "      <td>5.0</td>\n",
       "      <td>0.0</td>\n",
       "      <td>First U.S. dirigible Akron exploded just offsh...</td>\n",
       "    </tr>\n",
       "    <tr>\n",
       "      <th>3</th>\n",
       "      <td>08/06/1913</td>\n",
       "      <td>NaN</td>\n",
       "      <td>Victoria, British Columbia, Canada</td>\n",
       "      <td>Private</td>\n",
       "      <td>NaN</td>\n",
       "      <td>NaN</td>\n",
       "      <td>Curtiss seaplane</td>\n",
       "      <td>NaN</td>\n",
       "      <td>NaN</td>\n",
       "      <td>1.0</td>\n",
       "      <td>0.0</td>\n",
       "      <td>1.0</td>\n",
       "      <td>1.0</td>\n",
       "      <td>0.0</td>\n",
       "      <td>1.0</td>\n",
       "      <td>0.0</td>\n",
       "      <td>The first fatal airplane accident in Canada oc...</td>\n",
       "    </tr>\n",
       "    <tr>\n",
       "      <th>4</th>\n",
       "      <td>09/09/1913</td>\n",
       "      <td>18:30</td>\n",
       "      <td>Over the North Sea</td>\n",
       "      <td>Military - German Navy</td>\n",
       "      <td>NaN</td>\n",
       "      <td>NaN</td>\n",
       "      <td>Zeppelin L-1 (airship)</td>\n",
       "      <td>NaN</td>\n",
       "      <td>NaN</td>\n",
       "      <td>20.0</td>\n",
       "      <td>NaN</td>\n",
       "      <td>NaN</td>\n",
       "      <td>14.0</td>\n",
       "      <td>NaN</td>\n",
       "      <td>NaN</td>\n",
       "      <td>0.0</td>\n",
       "      <td>The airship flew into a thunderstorm and encou...</td>\n",
       "    </tr>\n",
       "  </tbody>\n",
       "</table>\n",
       "</div>"
      ],
      "text/plain": [
       "         Date   Time                            Location  \\\n",
       "0  09/17/1908  17:18                 Fort Myer, Virginia   \n",
       "1  09/07/1909    NaN             Juvisy-sur-Orge, France   \n",
       "2  07/12/1912  06:30           Atlantic City, New Jersey   \n",
       "3  08/06/1913    NaN  Victoria, British Columbia, Canada   \n",
       "4  09/09/1913  18:30                  Over the North Sea   \n",
       "\n",
       "                 Operator Flight #          Route                 AC Type  \\\n",
       "0    Military - U.S. Army      NaN  Demonstration        Wright Flyer III   \n",
       "1                     NaN      NaN       Air show          Wright Byplane   \n",
       "2    Military - U.S. Navy      NaN    Test flight               Dirigible   \n",
       "3                 Private      NaN            NaN        Curtiss seaplane   \n",
       "4  Military - German Navy      NaN            NaN  Zeppelin L-1 (airship)   \n",
       "\n",
       "  Registration cn/ln  Aboard  Aboard Passangers  Aboard Crew  Fatalities  \\\n",
       "0          NaN     1     2.0                1.0          1.0         1.0   \n",
       "1          SC1   NaN     1.0                0.0          1.0         1.0   \n",
       "2          NaN   NaN     5.0                0.0          5.0         5.0   \n",
       "3          NaN   NaN     1.0                0.0          1.0         1.0   \n",
       "4          NaN   NaN    20.0                NaN          NaN        14.0   \n",
       "\n",
       "   Fatalities Passangers  Fatalities Crew  Ground  \\\n",
       "0                    1.0              0.0     0.0   \n",
       "1                    0.0              0.0     0.0   \n",
       "2                    0.0              5.0     0.0   \n",
       "3                    0.0              1.0     0.0   \n",
       "4                    NaN              NaN     0.0   \n",
       "\n",
       "                                             Summary  \n",
       "0  During a demonstration flight, a U.S. Army fly...  \n",
       "1  Eugene Lefebvre was the first pilot to ever be...  \n",
       "2  First U.S. dirigible Akron exploded just offsh...  \n",
       "3  The first fatal airplane accident in Canada oc...  \n",
       "4  The airship flew into a thunderstorm and encou...  "
      ]
     },
     "execution_count": 4,
     "metadata": {},
     "output_type": "execute_result"
    }
   ],
   "source": [
    "plane.head()#exploring the dataset."
   ]
  },
  {
   "cell_type": "code",
   "execution_count": 5,
   "metadata": {},
   "outputs": [
    {
     "data": {
      "text/plain": [
       "(4967, 17)"
      ]
     },
     "execution_count": 5,
     "metadata": {},
     "output_type": "execute_result"
    }
   ],
   "source": [
    "plane.shape#Explore number of columns and rows."
   ]
  },
  {
   "cell_type": "code",
   "execution_count": 6,
   "metadata": {},
   "outputs": [
    {
     "name": "stdout",
     "output_type": "stream",
     "text": [
      "<class 'pandas.core.frame.DataFrame'>\n",
      "RangeIndex: 4967 entries, 0 to 4966\n",
      "Data columns (total 17 columns):\n",
      " #   Column                 Non-Null Count  Dtype  \n",
      "---  ------                 --------------  -----  \n",
      " 0   Date                   4967 non-null   object \n",
      " 1   Time                   3457 non-null   object \n",
      " 2   Location               4963 non-null   object \n",
      " 3   Operator               4957 non-null   object \n",
      " 4   Flight #               1315 non-null   object \n",
      " 5   Route                  4193 non-null   object \n",
      " 6   AC Type                4952 non-null   object \n",
      " 7   Registration           4694 non-null   object \n",
      " 8   cn/ln                  4299 non-null   object \n",
      " 9   Aboard                 4949 non-null   float64\n",
      " 10  Aboard Passangers      4738 non-null   float64\n",
      " 11  Aboard Crew            4741 non-null   float64\n",
      " 12  Fatalities             4959 non-null   float64\n",
      " 13  Fatalities Passangers  4725 non-null   float64\n",
      " 14  Fatalities Crew        4726 non-null   float64\n",
      " 15  Ground                 4926 non-null   float64\n",
      " 16  Summary                4903 non-null   object \n",
      "dtypes: float64(7), object(10)\n",
      "memory usage: 659.8+ KB\n"
     ]
    }
   ],
   "source": [
    "plane.info()#Explore datatypes of columns."
   ]
  },
  {
   "cell_type": "code",
   "execution_count": 7,
   "metadata": {},
   "outputs": [],
   "source": [
    "plane['Date']=pd.to_datetime(plane['Date'], utc=False)#Converting Date column into date_time datatype."
   ]
  },
  {
   "cell_type": "code",
   "execution_count": 8,
   "metadata": {},
   "outputs": [
    {
     "data": {
      "text/plain": [
       "Date                        0\n",
       "Time                     1510\n",
       "Location                    4\n",
       "Operator                   10\n",
       "Flight #                 3652\n",
       "Route                     774\n",
       "AC Type                    15\n",
       "Registration              273\n",
       "cn/ln                     668\n",
       "Aboard                     18\n",
       "Aboard Passangers         229\n",
       "Aboard Crew               226\n",
       "Fatalities                  8\n",
       "Fatalities Passangers     242\n",
       "Fatalities Crew           241\n",
       "Ground                     41\n",
       "Summary                    64\n",
       "dtype: int64"
      ]
     },
     "execution_count": 8,
     "metadata": {},
     "output_type": "execute_result"
    }
   ],
   "source": [
    "plane.isna().sum()#Exploring number of null values."
   ]
  },
  {
   "cell_type": "code",
   "execution_count": 9,
   "metadata": {},
   "outputs": [],
   "source": [
    "# around 70% of Flight column data has null values, we are dropping it.\n",
    "plane.drop(\"Flight #\",inplace=True,axis=1)"
   ]
  },
  {
   "cell_type": "code",
   "execution_count": 10,
   "metadata": {},
   "outputs": [],
   "source": [
    "#Changing the column names according to description given by author for better understanding.\n",
    "plane.rename(columns = {'AC Type':'Aircraft_type'}, inplace = True) "
   ]
  },
  {
   "cell_type": "code",
   "execution_count": 11,
   "metadata": {},
   "outputs": [],
   "source": [
    "#Keeping the analysis simple, dropping redundant columns and that have more null values.\n",
    "plane.drop([\"Time\",\"Registration\",\"cn/ln\",\"Aboard Passangers\",\"Aboard Crew\",\"Fatalities Passangers\",\"Fatalities Crew\"],inplace=True,axis=1)"
   ]
  },
  {
   "cell_type": "code",
   "execution_count": 12,
   "metadata": {},
   "outputs": [],
   "source": [
    "plane[[\"City\",\"Country\"]]=plane[\"Location\"].str.rsplit(\" \",n=1,expand=True)#Splitting the location column into city and country."
   ]
  },
  {
   "cell_type": "code",
   "execution_count": 13,
   "metadata": {},
   "outputs": [],
   "source": [
    "state_names = [\"Alaska\", \"Alabama\", \"Arkansas\", \"American Samoa\",\"Samoa\",\"Arizona\", \"California\", \"Colorado\", \"Connecticut\", \"District \", \"of Columbia\",\"Columnia\", \"Delaware\", \"Florida\", \"Georgia\", \"Guam\", \"Hawaii\", \"Iowa\", \"Idaho\", \"Illinois\", \"Indiana\", \"Kansas\", \"Kentucky\", \"Louisiana\", \"Massachusetts\", \"Maryland\", \"Maine\", \"Michigan\", \"Minnesota\", \"Missouri\", \"Mississippi\", \"Montana\", \"North Carolina\",\"Carolina\", \"North Dakota\",\"Dakota\", \"Nebraska\", \"New Hampshire\",\"Hampshire\" ,\"New Jersey\",\"Jersey\", \"New Mexico\", \"Nevada\", \"New York\",\"York\", \"Ohio\", \"Oklahoma\", \"Oregon\", \"Pennsylvania\", \"Puerto Rico\",\"Rico\", \"Rhode Island\", \"South Carolina\", \"South Dakota\", \"Tennessee\", \"Texas\", \"Utah\", \"Virginia\", \"Virgin Islands\", \"Vermont\", \"Washington\", \"Wisconsin\", \"West Virginia\", \"Wyoming\"]"
   ]
  },
  {
   "cell_type": "code",
   "execution_count": 14,
   "metadata": {},
   "outputs": [],
   "source": [
    "plane[\"Country\"].replace(to_replace=state_names,value='USA',regex=True,inplace=True)\n",
    "plane[\"City\"].replace(to_replace=r'(,)',value='',regex=True,inplace=True)"
   ]
  },
  {
   "cell_type": "code",
   "execution_count": 15,
   "metadata": {},
   "outputs": [],
   "source": [
    "plane[[\"Make\",\"Model_number\"]]=plane[\"Aircraft_type\"].str.split(\" \",n=1,expand=True)#Splitting the Aircraft_type into make and model_number.\n",
    "plane[[\"Civil/Military\",\"Sub division\"]]=plane[\"Operator\"].str.split(\" \",n=1,expand=True)#Splitting the Operator into Civil/Military and Subdivision."
   ]
  },
  {
   "cell_type": "code",
   "execution_count": 16,
   "metadata": {},
   "outputs": [],
   "source": [
    "plane.drop(\"Aircraft_type\",inplace=True,axis=1)"
   ]
  },
  {
   "cell_type": "code",
   "execution_count": 17,
   "metadata": {},
   "outputs": [],
   "source": [
    "#It is evident that, 732 aircrafts are Military. Hence we will create a seperate dataframe to explore Military and Civil aircrafts for detailed individual analysis.\n",
    "military=plane[plane[\"Civil/Military\"]==\"Military\"]\n",
    "civil=plane[plane[\"Civil/Military\"]!=\"Military\"]"
   ]
  },
  {
   "cell_type": "code",
   "execution_count": 18,
   "metadata": {},
   "outputs": [
    {
     "data": {
      "image/png": "[encoded data removed]",
      "text/plain": [
       "<Figure size 1440x576 with 1 Axes>"
      ]
     },
     "metadata": {
      "needs_background": "light"
     },
     "output_type": "display_data"
    }
   ],
   "source": [
    "year=plane.Date.dt.year\n",
    "## Set axes ##\n",
    "years = year.value_counts()\n",
    "## Create Bar Plot ##\n",
    "plt.figure(figsize=(20,8))\n",
    "plt.xticks(rotation = 90)\n",
    "plt.title('All Plane crashes by year')\n",
    "\n",
    "years_plot = sns.barplot(x=years.index,y=years.values,palette = \"magma_r\")"
   ]
  },
  {
   "cell_type": "code",
   "execution_count": 19,
   "metadata": {},
   "outputs": [
    {
     "data": {
      "image/png": "[encoded data removed]",
      "text/plain": [
       "<Figure size 1440x576 with 1 Axes>"
      ]
     },
     "metadata": {
      "needs_background": "light"
     },
     "output_type": "display_data"
    }
   ],
   "source": [
    "year=civil.Date.dt.year\n",
    "## Set axes ##\n",
    "years = year.value_counts()\n",
    "## Create Bar Plot ##\n",
    "plt.figure(figsize=(20,8))\n",
    "plt.xticks(rotation = 90)\n",
    "plt.title('Civil plane crashes by year')\n",
    "\n",
    "years_plot = sns.barplot(x=years.index,y=years.values, palette = \"viridis\")"
   ]
  },
  {
   "cell_type": "code",
   "execution_count": 20,
   "metadata": {},
   "outputs": [
    {
     "data": {
      "image/png": "[encoded data removed]",
      "text/plain": [
       "<Figure size 1440x576 with 1 Axes>"
      ]
     },
     "metadata": {
      "needs_background": "light"
     },
     "output_type": "display_data"
    }
   ],
   "source": [
    "year=military.Date.dt.year\n",
    "## Set axes ##\n",
    "years = year.value_counts()\n",
    "## Create Bar Plot ##\n",
    "plt.figure(figsize=(20,8))\n",
    "plt.xticks(rotation = 90)\n",
    "plt.title('Military plane crashes by year')\n",
    "\n",
    "years_plot = sns.barplot(x=years.index,y=years.values, palette = \"spring_r\")"
   ]
  },
  {
   "cell_type": "markdown",
   "metadata": {},
   "source": [
    "#### <font color=darkgreen>**Observation_1:**</font> <font color=black>**We can clearly see that number of accidents are decreasing in both military and civil aircrafts.**</font> "
   ]
  },
  {
   "cell_type": "markdown",
   "metadata": {},
   "source": [
    "#### <font color=darkgreen>**Observation_2:**</font> <font color=black>**We all know that Military aircarft accidents are high between 1940 and 1945 because of World War-II.**</font> "
   ]
  },
  {
   "cell_type": "code",
   "execution_count": 21,
   "metadata": {},
   "outputs": [],
   "source": [
    "military.drop([\"Location\", \"Operator\"],inplace=True,axis=1)"
   ]
  },
  {
   "cell_type": "code",
   "execution_count": 22,
   "metadata": {},
   "outputs": [],
   "source": [
    "military[[\"Military_country\",\"Military_type\"]]=plane[\"Sub division\"].str.rsplit(\" \",n=1,expand=True)"
   ]
  },
  {
   "cell_type": "code",
   "execution_count": 23,
   "metadata": {},
   "outputs": [],
   "source": [
    "military.drop([\"Sub division\"],inplace=True,axis=1)"
   ]
  },
  {
   "cell_type": "code",
   "execution_count": 24,
   "metadata": {},
   "outputs": [],
   "source": [
    "military[\"Military_country\"].replace('-', '',regex=True,inplace=True)"
   ]
  },
  {
   "cell_type": "code",
   "execution_count": 25,
   "metadata": {},
   "outputs": [],
   "source": [
    "military[\"Military_country\"].replace(to_replace=r'(^\\s[uU].*)',value='USA',regex=True,inplace=True)"
   ]
  },
  {
   "cell_type": "code",
   "execution_count": 26,
   "metadata": {},
   "outputs": [],
   "source": [
    "military[\"Military_country\"].replace(to_replace=r'(^\\s)',value='',regex=True,inplace=True)"
   ]
  },
  {
   "cell_type": "code",
   "execution_count": 27,
   "metadata": {},
   "outputs": [],
   "source": [
    "military[\"Country\"].replace(to_replace='[()]',value='',regex=True,inplace=True)"
   ]
  },
  {
   "cell_type": "code",
   "execution_count": 28,
   "metadata": {},
   "outputs": [],
   "source": [
    "military[\"Country\"].replace(to_replace=r'(,)',value='',regex=True,inplace=True)"
   ]
  },
  {
   "cell_type": "markdown",
   "metadata": {},
   "source": [
    "### <font color=darkblue>**Which country has highest number of Military accidents?**</font> "
   ]
  },
  {
   "cell_type": "code",
   "execution_count": 29,
   "metadata": {},
   "outputs": [
    {
     "data": {
      "image/png": "[encoded data removed]",
      "text/plain": [
       "<Figure size 1440x576 with 1 Axes>"
      ]
     },
     "metadata": {
      "needs_background": "light"
     },
     "output_type": "display_data"
    }
   ],
   "source": [
    "mac=military.Country.value_counts().nlargest(20)\n",
    "plt.figure(figsize=(20,8))\n",
    "plt.xticks(rotation = 90)\n",
    "plt.title('Highest Military Plane crashes by country')\n",
    "\n",
    "mac_plot = sns.barplot(y=mac.index,x=mac.values, palette = \"spring_r\")"
   ]
  },
  {
   "cell_type": "code",
   "execution_count": 30,
   "metadata": {},
   "outputs": [
    {
     "data": {
      "image/png": "[encoded data removed]",
      "text/plain": [
       "<Figure size 1440x576 with 1 Axes>"
      ]
     },
     "metadata": {
      "needs_background": "light"
     },
     "output_type": "display_data"
    }
   ],
   "source": [
    "mcac=military.Military_country.value_counts().nlargest(20)\n",
    "plt.figure(figsize=(20,8))\n",
    "plt.title('Which Country military plane crashed most?')\n",
    "\n",
    "mac_plot = sns.barplot(y=mcac.index,x=mcac.values, palette = \"spring_r\")"
   ]
  },
  {
   "cell_type": "code",
   "execution_count": 31,
   "metadata": {},
   "outputs": [],
   "source": [
    "military.Route.fillna(value=\"Unknown\", inplace=True)\n",
    "military.Route.replace(to_replace=\"Military exercises\",value='Military exercise',regex=True,inplace=True)\n",
    "military.Route.replace(to_replace=\"Training exercise\",value='Training',regex=True,inplace=True)"
   ]
  },
  {
   "cell_type": "code",
   "execution_count": 32,
   "metadata": {},
   "outputs": [
    {
     "data": {
      "image/png": "[encoded data removed]",
      "text/plain": [
       "<Figure size 1440x576 with 1 Axes>"
      ]
     },
     "metadata": {
      "needs_background": "light"
     },
     "output_type": "display_data"
    }
   ],
   "source": [
    "mr=military.Route.value_counts().nlargest(20)\n",
    "years_index = mr.index  # x ticks\n",
    "years_values = mr.values\n",
    "plt.figure(figsize=(20,8))\n",
    "plt.title('On what route planes are crashing')\n",
    "\n",
    "mac_plot = sns.barplot(y=years_index[1:],x=years_values[1:], palette = \"spring_r\")"
   ]
  },
  {
   "cell_type": "code",
   "execution_count": 33,
   "metadata": {},
   "outputs": [
    {
     "data": {
      "text/html": [
       "<div>\n",
       "<style scoped>\n",
       "    .dataframe tbody tr th:only-of-type {\n",
       "        vertical-align: middle;\n",
       "    }\n",
       "\n",
       "    .dataframe tbody tr th {\n",
       "        vertical-align: top;\n",
       "    }\n",
       "\n",
       "    .dataframe thead th {\n",
       "        text-align: right;\n",
       "    }\n",
       "</style>\n",
       "<table border=\"1\" class=\"dataframe\">\n",
       "  <thead>\n",
       "    <tr style=\"text-align: right;\">\n",
       "      <th></th>\n",
       "      <th>Date</th>\n",
       "      <th>Route</th>\n",
       "      <th>Aboard</th>\n",
       "      <th>Fatalities</th>\n",
       "      <th>Ground</th>\n",
       "      <th>Summary</th>\n",
       "      <th>City</th>\n",
       "      <th>Country</th>\n",
       "      <th>Make</th>\n",
       "      <th>Model_number</th>\n",
       "      <th>Civil/Military</th>\n",
       "      <th>Military_country</th>\n",
       "      <th>Military_type</th>\n",
       "    </tr>\n",
       "  </thead>\n",
       "  <tbody>\n",
       "    <tr>\n",
       "      <th>0</th>\n",
       "      <td>1908-09-17</td>\n",
       "      <td>Demonstration</td>\n",
       "      <td>2.0</td>\n",
       "      <td>1.0</td>\n",
       "      <td>0.0</td>\n",
       "      <td>During a demonstration flight, a U.S. Army fly...</td>\n",
       "      <td>Fort Myer</td>\n",
       "      <td>USA</td>\n",
       "      <td>Wright</td>\n",
       "      <td>Flyer III</td>\n",
       "      <td>Military</td>\n",
       "      <td>USA</td>\n",
       "      <td>Army</td>\n",
       "    </tr>\n",
       "    <tr>\n",
       "      <th>2</th>\n",
       "      <td>1912-07-12</td>\n",
       "      <td>Test flight</td>\n",
       "      <td>5.0</td>\n",
       "      <td>5.0</td>\n",
       "      <td>0.0</td>\n",
       "      <td>First U.S. dirigible Akron exploded just offsh...</td>\n",
       "      <td>Atlantic City New</td>\n",
       "      <td>USA</td>\n",
       "      <td>Dirigible</td>\n",
       "      <td>None</td>\n",
       "      <td>Military</td>\n",
       "      <td>USA</td>\n",
       "      <td>Navy</td>\n",
       "    </tr>\n",
       "    <tr>\n",
       "      <th>4</th>\n",
       "      <td>1913-09-09</td>\n",
       "      <td>Unknown</td>\n",
       "      <td>20.0</td>\n",
       "      <td>14.0</td>\n",
       "      <td>0.0</td>\n",
       "      <td>The airship flew into a thunderstorm and encou...</td>\n",
       "      <td>Over the North</td>\n",
       "      <td>Sea</td>\n",
       "      <td>Zeppelin</td>\n",
       "      <td>L-1 (airship)</td>\n",
       "      <td>Military</td>\n",
       "      <td>German</td>\n",
       "      <td>Navy</td>\n",
       "    </tr>\n",
       "    <tr>\n",
       "      <th>5</th>\n",
       "      <td>1913-10-17</td>\n",
       "      <td>Unknown</td>\n",
       "      <td>30.0</td>\n",
       "      <td>30.0</td>\n",
       "      <td>0.0</td>\n",
       "      <td>Hydrogen gas which was being vented was sucked...</td>\n",
       "      <td>Near Johannisthal</td>\n",
       "      <td>Germany</td>\n",
       "      <td>Zeppelin</td>\n",
       "      <td>L-2 (airship)</td>\n",
       "      <td>Military</td>\n",
       "      <td>German</td>\n",
       "      <td>Navy</td>\n",
       "    </tr>\n",
       "    <tr>\n",
       "      <th>6</th>\n",
       "      <td>1915-03-05</td>\n",
       "      <td>Unknown</td>\n",
       "      <td>41.0</td>\n",
       "      <td>21.0</td>\n",
       "      <td>0.0</td>\n",
       "      <td>Crashed into trees while attempting to land af...</td>\n",
       "      <td>Tienen</td>\n",
       "      <td>Belgium</td>\n",
       "      <td>Zeppelin</td>\n",
       "      <td>L-8 (airship)</td>\n",
       "      <td>Military</td>\n",
       "      <td>German</td>\n",
       "      <td>Navy</td>\n",
       "    </tr>\n",
       "  </tbody>\n",
       "</table>\n",
       "</div>"
      ],
      "text/plain": [
       "        Date          Route  Aboard  Fatalities  Ground  \\\n",
       "0 1908-09-17  Demonstration     2.0         1.0     0.0   \n",
       "2 1912-07-12    Test flight     5.0         5.0     0.0   \n",
       "4 1913-09-09        Unknown    20.0        14.0     0.0   \n",
       "5 1913-10-17        Unknown    30.0        30.0     0.0   \n",
       "6 1915-03-05        Unknown    41.0        21.0     0.0   \n",
       "\n",
       "                                             Summary               City  \\\n",
       "0  During a demonstration flight, a U.S. Army fly...          Fort Myer   \n",
       "2  First U.S. dirigible Akron exploded just offsh...  Atlantic City New   \n",
       "4  The airship flew into a thunderstorm and encou...     Over the North   \n",
       "5  Hydrogen gas which was being vented was sucked...  Near Johannisthal   \n",
       "6  Crashed into trees while attempting to land af...             Tienen   \n",
       "\n",
       "   Country       Make   Model_number Civil/Military Military_country  \\\n",
       "0      USA     Wright      Flyer III       Military              USA   \n",
       "2      USA  Dirigible           None       Military              USA   \n",
       "4      Sea   Zeppelin  L-1 (airship)       Military           German   \n",
       "5  Germany   Zeppelin  L-2 (airship)       Military           German   \n",
       "6  Belgium   Zeppelin  L-8 (airship)       Military           German   \n",
       "\n",
       "  Military_type  \n",
       "0          Army  \n",
       "2          Navy  \n",
       "4          Navy  \n",
       "5          Navy  \n",
       "6          Navy  "
      ]
     },
     "execution_count": 33,
     "metadata": {},
     "output_type": "execute_result"
    }
   ],
   "source": [
    "military.head()"
   ]
  },
  {
   "cell_type": "code",
   "execution_count": 34,
   "metadata": {},
   "outputs": [],
   "source": [
    "aircraft_countries = military.groupby('Country').Military_country.value_counts()\n",
    "aircraft_countries = aircraft_countries.sort_values(ascending=False)"
   ]
  },
  {
   "cell_type": "code",
   "execution_count": 35,
   "metadata": {},
   "outputs": [
    {
     "data": {
      "text/plain": [
       "Country      Military_country     \n",
       "USA          USA                      107\n",
       "Vietnam      USA                       28\n",
       "India        Indian Air                15\n",
       "Afghanistan  Afghan Republican Air     12\n",
       "England      Royal Air                 11\n",
       "                                     ... \n",
       "Iraq         Royal Air                  1\n",
       "                                        1\n",
       "Russia       USA                        1\n",
       "Iran         USA                        1\n",
       "coast         (2) U.S. Army Air         1\n",
       "Name: Military_country, Length: 305, dtype: int64"
      ]
     },
     "execution_count": 35,
     "metadata": {},
     "output_type": "execute_result"
    }
   ],
   "source": [
    "aircraft_countries"
   ]
  },
  {
   "cell_type": "code",
   "execution_count": null,
   "metadata": {},
   "outputs": [],
   "source": []
  }
 ],
 "metadata": {
  "kernelspec": {
   "display_name": "Python 3",
   "language": "python",
   "name": "python3"
  },
  "language_info": {
   "codemirror_mode": {
    "name": "ipython",
    "version": 3
   },
   "file_extension": ".py",
   "mimetype": "text/x-python",
   "name": "python",
   "nbconvert_exporter": "python",
   "pygments_lexer": "ipython3",
   "version": "3.8.3"
  }
 },
 "nbformat": 4,
 "nbformat_minor": 4
}
